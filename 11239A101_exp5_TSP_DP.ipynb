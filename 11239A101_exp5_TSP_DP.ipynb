{
  "nbformat": 4,
  "nbformat_minor": 0,
  "metadata": {
    "colab": {
      "provenance": [],
      "authorship_tag": "ABX9TyOs6dzIJUmLXeNNXgCjbZfr",
      "include_colab_link": true
    },
    "kernelspec": {
      "name": "python3",
      "display_name": "Python 3"
    },
    "language_info": {
      "name": "python"
    }
  },
  "cells": [
    {
      "cell_type": "markdown",
      "metadata": {
        "id": "view-in-github",
        "colab_type": "text"
      },
      "source": [
        "<a href=\"https://colab.research.google.com/github/Vishnubhatlapranav2004/11239A101_DAA_LAB/blob/main/11239A101_exp5_TSP_DP.ipynb\" target=\"_parent\"><img src=\"https://colab.research.google.com/assets/colab-badge.svg\" alt=\"Open In Colab\"/></a>"
      ]
    },
    {
      "cell_type": "code",
      "execution_count": 1,
      "metadata": {
        "colab": {
          "base_uri": "https://localhost:8080/"
        },
        "id": "EuRxFMEaM_mz",
        "outputId": "86092838-5c09-4209-902c-b39ef666cd06"
      },
      "outputs": [
        {
          "output_type": "stream",
          "name": "stdout",
          "text": [
            "Minimum Cost: 80\n",
            "Shortest Path: 0 -> 1 -> 3 -> 2 -> 0\n"
          ]
        }
      ],
      "source": [
        "from functools import lru_cache\n",
        "\n",
        "# Distance matrix\n",
        "graph = [\n",
        "    [0, 10, 15, 20],\n",
        "    [10, 0, 35, 25],\n",
        "    [15, 35, 0, 30],\n",
        "    [20, 25, 30, 0]\n",
        "]\n",
        "n = len(graph)\n",
        "\n",
        "@lru_cache(None)\n",
        "def tsp(pos, visited):\n",
        "    if visited == (1 << n) - 1:\n",
        "        return graph[pos][0], [0]\n",
        "    min_cost, min_path = float('inf'), []\n",
        "    for city in range(n):\n",
        "        if not visited & (1 << city):\n",
        "            cost, path = tsp(city, visited | (1 << city))\n",
        "            cost += graph[pos][city]\n",
        "            if cost < min_cost:\n",
        "                min_cost, min_path = cost, [city] + path\n",
        "    return min_cost, min_path\n",
        "\n",
        "cost, path = tsp(0, 1)\n",
        "print(f\"Minimum Cost: {cost}\")\n",
        "print(\"Shortest Path:\", ' -> '.join(map(str, [0] + path)))"
      ]
    }
  ]
}