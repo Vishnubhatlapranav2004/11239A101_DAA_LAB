{
  "nbformat": 4,
  "nbformat_minor": 0,
  "metadata": {
    "colab": {
      "provenance": [],
      "authorship_tag": "ABX9TyOsrGyitxgMdznf5GpIsDjD",
      "include_colab_link": true
    },
    "kernelspec": {
      "name": "python3",
      "display_name": "Python 3"
    },
    "language_info": {
      "name": "python"
    }
  },
  "cells": [
    {
      "cell_type": "markdown",
      "metadata": {
        "id": "view-in-github",
        "colab_type": "text"
      },
      "source": [
        "<a href=\"https://colab.research.google.com/github/Vishnubhatlapranav2004/11239A101_DAA_LAB/blob/main/11239A101_exp7b_kruskal_MST.ipynb\" target=\"_parent\"><img src=\"https://colab.research.google.com/assets/colab-badge.svg\" alt=\"Open In Colab\"/></a>"
      ]
    },
    {
      "cell_type": "code",
      "execution_count": 1,
      "metadata": {
        "colab": {
          "base_uri": "https://localhost:8080/"
        },
        "id": "_zLlm9q1O9V1",
        "outputId": "cb81eac1-54cf-4d7d-81bc-6274221ebe54"
      },
      "outputs": [
        {
          "output_type": "stream",
          "name": "stdout",
          "text": [
            "Vertices: ['A', 'B', 'C', 'D', 'E']\n",
            "Edges (u, v, weight): [(0, 1, 4), (0, 2, 1), (1, 2, 2), (1, 3, 5), (2, 3, 8), (3, 4, 3), (2, 4, 7)]\n",
            "\n",
            "Minimum Spanning Tree (MST) Edges (u, v, weight):\n",
            "(A, C, 1)\n",
            "(B, C, 2)\n",
            "(D, E, 3)\n",
            "(B, D, 5)\n",
            "Total weight of MST: 11\n"
          ]
        }
      ],
      "source": [
        "class DisjointSet:\n",
        "    def __init__(self, n):\n",
        "        self.parent = list(range(n))\n",
        "        self.rank = [0] * n\n",
        "\n",
        "    def find(self, u):\n",
        "        if self.parent[u] != u:\n",
        "            self.parent[u] = self.find(self.parent[u])\n",
        "        return self.parent[u]\n",
        "\n",
        "    def union(self, u, v):\n",
        "        root_u = self.find(u)\n",
        "        root_v = self.find(v)\n",
        "\n",
        "        if root_u != root_v:\n",
        "            if self.rank[root_u] > self.rank[root_v]:\n",
        "                self.parent[root_v] = root_u\n",
        "            elif self.rank[root_u] < self.rank[root_v]:\n",
        "                self.parent[root_u] = root_v\n",
        "            else:\n",
        "                self.parent[root_v] = root_u\n",
        "                self.rank[root_u] += 1\n",
        "\n",
        "\n",
        "def kruskal(vertices, edges):\n",
        "    # Sort edges based on weight\n",
        "    edges.sort(key=lambda x: x[2])\n",
        "\n",
        "    ds = DisjointSet(len(vertices))\n",
        "    mst_edges = []\n",
        "    total_weight = 0\n",
        "\n",
        "    for u, v, weight in edges:\n",
        "        if ds.find(u) != ds.find(v):\n",
        "            ds.union(u, v)\n",
        "            mst_edges.append((u, v, weight))\n",
        "            total_weight += weight\n",
        "\n",
        "    return mst_edges, total_weight\n",
        "\n",
        "\n",
        "def main():\n",
        "    # Define the graph\n",
        "    vertices = ['A', 'B', 'C', 'D', 'E']\n",
        "    edges = [\n",
        "        (0, 1, 4),  # A-B\n",
        "        (0, 2, 1),  # A-C\n",
        "        (1, 2, 2),  # B-C\n",
        "        (1, 3, 5),  # B-D\n",
        "        (2, 3, 8),  # C-D\n",
        "        (3, 4, 3),  # D-E\n",
        "        (2, 4, 7)   # C-E\n",
        "    ]\n",
        "\n",
        "    print(\"Vertices:\", vertices)\n",
        "    print(\"Edges (u, v, weight):\", edges)\n",
        "\n",
        "    mst_edges, total_weight = kruskal(vertices, edges)\n",
        "\n",
        "    print(\"\\nMinimum Spanning Tree (MST) Edges (u, v, weight):\")\n",
        "    for u, v, weight in mst_edges:\n",
        "        print(f\"({vertices[u]}, {vertices[v]}, {weight})\")\n",
        "\n",
        "    print(\"Total weight of MST:\", total_weight)\n",
        "\n",
        "\n",
        "if __name__ == \"__main__\":\n",
        "    main()"
      ]
    }
  ]
}