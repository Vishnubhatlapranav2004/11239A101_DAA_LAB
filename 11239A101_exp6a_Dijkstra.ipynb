{
  "nbformat": 4,
  "nbformat_minor": 0,
  "metadata": {
    "colab": {
      "provenance": [],
      "authorship_tag": "ABX9TyOZadaPae4joaZ8kJMkXWC/",
      "include_colab_link": true
    },
    "kernelspec": {
      "name": "python3",
      "display_name": "Python 3"
    },
    "language_info": {
      "name": "python"
    }
  },
  "cells": [
    {
      "cell_type": "markdown",
      "metadata": {
        "id": "view-in-github",
        "colab_type": "text"
      },
      "source": [
        "<a href=\"https://colab.research.google.com/github/Vishnubhatlapranav2004/11239A101_DAA_LAB/blob/main/11239A101_exp6a_Dijkstra.ipynb\" target=\"_parent\"><img src=\"https://colab.research.google.com/assets/colab-badge.svg\" alt=\"Open In Colab\"/></a>"
      ]
    },
    {
      "cell_type": "code",
      "execution_count": 1,
      "metadata": {
        "colab": {
          "base_uri": "https://localhost:8080/"
        },
        "id": "B3kgjczVNXMv",
        "outputId": "a6b88ce3-2876-43fa-ab44-859f2271bf0c"
      },
      "outputs": [
        {
          "output_type": "stream",
          "name": "stdout",
          "text": [
            "Vertex  Previous Vertex  Distance from Start\n",
            "A      -               0\n",
            "B      A               4\n",
            "C      A               2\n",
            "D      C               5\n",
            "\n",
            "Shortest path from A to D: A -> C -> D\n",
            "Shortest distance: 5\n"
          ]
        }
      ],
      "source": [
        "import heapq\n",
        "\n",
        "def dijkstra(graph, start):\n",
        "    dist, prev, pq = {v: float('inf') for v in graph}, {v: None for v in graph}, [(0, start)]\n",
        "    dist[start] = 0\n",
        "    while pq:\n",
        "        d, u = heapq.heappop(pq)\n",
        "        for v, w in graph[u]:\n",
        "            if d + w < dist[v]:\n",
        "                dist[v], prev[v] = d + w, u\n",
        "                heapq.heappush(pq, (dist[v], v))\n",
        "    return dist, prev\n",
        "\n",
        "def shortest_path(prev, start, end):\n",
        "    path, node = [], end\n",
        "    while node and node != start:\n",
        "        path.append(node)\n",
        "        node = prev[node]\n",
        "    return \" -> \".join([start] + path[::-1]) if path else start\n",
        "\n",
        "# Example usage\n",
        "graph = {'A': [('B', 4), ('C', 2)], 'B': [('A', 4)], 'C': [('A', 2), ('D', 3)], 'D': [('C', 3)]}\n",
        "start, end = 'A', 'D'\n",
        "dist, prev = dijkstra(graph, start)\n",
        "\n",
        "# Print table\n",
        "print(\"Vertex  Previous Vertex  Distance from Start\")\n",
        "for v in graph:\n",
        "    print(f\"{v:6} {prev[v] if prev[v] else '-':15} {dist[v]}\")\n",
        "\n",
        "# Print shortest path\n",
        "print(f\"\\nShortest path from {start} to {end}: {shortest_path(prev, start, end)}\")\n",
        "print(f\"Shortest distance: {dist[end]}\")"
      ]
    }
  ]
}