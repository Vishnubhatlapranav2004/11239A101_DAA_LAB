{
  "nbformat": 4,
  "nbformat_minor": 0,
  "metadata": {
    "colab": {
      "provenance": [],
      "authorship_tag": "ABX9TyOB75LxQfjyDMOkQXvW4irt",
      "include_colab_link": true
    },
    "kernelspec": {
      "name": "python3",
      "display_name": "Python 3"
    },
    "language_info": {
      "name": "python"
    }
  },
  "cells": [
    {
      "cell_type": "markdown",
      "metadata": {
        "id": "view-in-github",
        "colab_type": "text"
      },
      "source": [
        "<a href=\"https://colab.research.google.com/github/Vishnubhatlapranav2004/11239A101_DAA_LAB/blob/main/11239A101_exp6b_FloydWarshall.ipynb\" target=\"_parent\"><img src=\"https://colab.research.google.com/assets/colab-badge.svg\" alt=\"Open In Colab\"/></a>"
      ]
    },
    {
      "cell_type": "code",
      "execution_count": 1,
      "metadata": {
        "colab": {
          "base_uri": "https://localhost:8080/"
        },
        "id": "AvdL8G6MN9Np",
        "outputId": "1b8ebb17-2cb1-4b6c-da65-308b77f2ec99"
      },
      "outputs": [
        {
          "output_type": "stream",
          "name": "stdout",
          "text": [
            "Shortest path distance matrix:\n",
            "[[0. 1. 3.]\n",
            " [1. 0. 2.]\n",
            " [3. 2. 0.]]\n"
          ]
        }
      ],
      "source": [
        "import numpy as np\n",
        "def floyd_warshall(graph):\n",
        "    num_vertices = len(graph)\n",
        "    distance = np.copy(graph)\n",
        "    for k in range(num_vertices):\n",
        "        for i in range(num_vertices):\n",
        "            for j in range(num_vertices):\n",
        "                if distance[i][j] > distance[i][k] + distance[k][j]:\n",
        "                    distance[i][j] = distance[i][k] + distance[k][j]\n",
        "    return distance\n",
        "graph = [\n",
        "    [0, 1, np.inf],\n",
        "    [1, 0, 2],\n",
        "    [np.inf, 2, 0]\n",
        "]\n",
        "\n",
        "shortest_paths = floyd_warshall(graph)\n",
        "print(\"Shortest path distance matrix:\")\n",
        "print(shortest_paths)\n"
      ]
    }
  ]
}